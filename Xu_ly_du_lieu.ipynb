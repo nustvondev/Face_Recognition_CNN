{
 "cells": [
  {
   "cell_type": "code",
   "execution_count": 1,
   "id": "dc2aacdd",
   "metadata": {},
   "outputs": [
    {
     "name": "stdout",
     "output_type": "stream",
     "text": [
      "Requirement already satisfied: opencv-python in c:\\users\\hoabo\\appdata\\local\\packages\\pythonsoftwarefoundation.python.3.10_qbz5n2kfra8p0\\localcache\\local-packages\\python310\\site-packages (4.6.0.66)\n",
      "Requirement already satisfied: numpy>=1.17.3 in c:\\users\\hoabo\\appdata\\local\\packages\\pythonsoftwarefoundation.python.3.10_qbz5n2kfra8p0\\localcache\\local-packages\\python310\\site-packages (from opencv-python) (1.23.3)\n",
      "Note: you may need to restart the kernel to use updated packages.\n"
     ]
    }
   ],
   "source": [
    "pip install opencv-python"
   ]
  },
  {
   "cell_type": "code",
   "execution_count": 2,
   "id": "1f69fc52",
   "metadata": {},
   "outputs": [],
   "source": [
    "import cv2\n",
    "import os\n",
    "import numpy as np\n",
    "import glob"
   ]
  },
  {
   "cell_type": "code",
   "execution_count": 4,
   "id": "f6bab8f9",
   "metadata": {},
   "outputs": [
    {
     "name": "stdout",
     "output_type": "stream",
     "text": [
      "Dat: 500 Images\n",
      "Hoa: 513 Images\n",
      "Thieu: 679 Images\n",
      "Trung: 498 Images\n",
      "Truong: 496 Images\n",
      "NguoiLa: 0 Images\n"
     ]
    }
   ],
   "source": [
    "base_dir = \"workspace/FaceRecognition/Train\"\n",
    "classes = ['Dat','Hoa','Thieu','Trung','Truong',\n",
    "           'NguoiLa']\n",
    "face_cascade = cv2.CascadeClassifier(cv2.data.haarcascades + 'haarcascade_frontalface_default.xml')\n",
    "img_number = 0\n",
    "for cl in classes:\n",
    "    img_path = os.path.join(base_dir, cl)\n",
    "    images = glob.glob(img_path + '/*.jpg')\n",
    "    print(\"{}: {} Images\".format(cl, len(images)))\n",
    "    num_train = len(images)\n",
    "    for file in images[:num_train]:\n",
    "        img= cv2.imread(file, 1)  #now, we can read each file since we have the full path\n",
    "        gray = cv2.cvtColor(img, cv2.COLOR_BGR2GRAY)\n",
    "        faces = face_cascade.detectMultiScale(gray, 1.3, 5)\n",
    "        try:\n",
    "            for (x,y,w,h) in faces:\n",
    "                roi_color = img[y:y+h, x:x+w] \n",
    "                resized = cv2.resize(roi_color, (224,224))\n",
    "                cv2.imwrite(\"workspace/FaceRecognition/test\"+str(img_number)+\".jpg\", resized)\n",
    "        except:\n",
    "            print(\"No faces detected\")\n",
    "        img_number += 1"
   ]
  },
  {
   "cell_type": "code",
   "execution_count": null,
   "id": "4f8982f6",
   "metadata": {},
   "outputs": [],
   "source": []
  }
 ],
 "metadata": {
  "kernelspec": {
   "display_name": "Python 3 (ipykernel)",
   "language": "python",
   "name": "python3"
  },
  "language_info": {
   "codemirror_mode": {
    "name": "ipython",
    "version": 3
   },
   "file_extension": ".py",
   "mimetype": "text/x-python",
   "name": "python",
   "nbconvert_exporter": "python",
   "pygments_lexer": "ipython3",
   "version": "3.10.7"
  }
 },
 "nbformat": 4,
 "nbformat_minor": 5
}
